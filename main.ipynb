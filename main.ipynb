{
 "cells": [
  {
   "cell_type": "code",
   "execution_count": 45,
   "metadata": {},
   "outputs": [],
   "source": [
    "import pandas as pd\n",
    "import numpy as np\n",
    "\n",
    "\n",
    "datalar = 'ProjeeData.csv'\n",
    "df = pd.read_csv(datalar)\n",
    "\n",
    "\n",
    "\n",
    "\n",
    "df['Gösterim süresi'] = df['Gösterim süresi'].str.extract('(\\d+)')\n",
    "df['Gösterim süresi'] = df['Gösterim süresi'].replace('', np.nan)\n",
    "df['Gösterim süresi'] = pd.to_numeric(df['Gösterim süresi'], errors='coerce')\n",
    "df['Gösterim süresi'] = df['Gösterim süresi'].fillna(df['Gösterim süresi'].mean())\n",
    "df['Gösterim süresi'] = df['Gösterim süresi'].round().astype(int)\n",
    "  \n",
    "\n",
    "\n",
    "df['Bölüm sayısı'] = df['Bölüm sayısı'].str.extract('(\\d+)')\n",
    "df['Bölüm sayısı'] = df['Bölüm sayısı'].replace('', np.nan)\n",
    "df['Bölüm sayısı'] = pd.to_numeric(df['Bölüm sayısı'], errors='coerce')\n",
    "df['Bölüm sayısı'] = df['Bölüm sayısı'].fillna(df['Bölüm sayısı'].mean())\n",
    "df['Bölüm sayısı'] = df['Bölüm sayısı'].round().astype(int)\n",
    "\n",
    "df['Kanal'] = df['Kanal'].fillna('Netflix')\n",
    "\n",
    "\n",
    "df['Yapım şirketi'] = df['Yapım şirketi'].fillna(df['Yapım şirketi'].mode()[0])\n",
    "\n",
    "\n",
    "\n",
    "en_cok_kullanilan_yapimcilar = df['Yapımcı'].mode().head(3)\n",
    "\n",
    "\n",
    "df.loc[df['Yapımcı'].isnull(), 'Yapımcı'] = np.random.choice(en_cok_kullanilan_yapimcilar, df['Yapımcı'].isnull().sum())\n",
    "df.loc[df['Yönetmen'].isnull(), 'Yönetmen'] = np.random.choice(en_cok_kullanilan_yapimcilar, df['Yönetmen'].isnull().sum())\n",
    "df.loc[df['Senarist'].isnull(), 'Senarist'] = np.random.choice(en_cok_kullanilan_yapimcilar, df['Senarist'].isnull().sum())\n",
    "\n",
    "\n",
    "\n",
    "\n",
    "df.to_csv('ProjeData.csv', index=False)"
   ]
  }
 ],
 "metadata": {
  "kernelspec": {
   "display_name": "Python 3",
   "language": "python",
   "name": "python3"
  },
  "language_info": {
   "codemirror_mode": {
    "name": "ipython",
    "version": 3
   },
   "file_extension": ".py",
   "mimetype": "text/x-python",
   "name": "python",
   "nbconvert_exporter": "python",
   "pygments_lexer": "ipython3",
   "version": "3.7.4"
  },
  "orig_nbformat": 4
 },
 "nbformat": 4,
 "nbformat_minor": 2
}
