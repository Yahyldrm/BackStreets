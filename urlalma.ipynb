{
 "cells": [
  {
   "cell_type": "code",
   "execution_count": 2,
   "metadata": {},
   "outputs": [],
   "source": [
    "from bs4 import BeautifulSoup\n",
    "import requests\n",
    "\n",
    "url = 'https://tr.wikipedia.org/wiki/T%C3%BCrk_dizileri_listesi'\n",
    "response = requests.get(url)\n",
    "\n",
    "soup = BeautifulSoup(response.text, 'html.parser')\n",
    "\n",
    "\n",
    "tables = soup.find_all('table', {'class': 'wikitable'})\n",
    "\n",
    "\n",
    "links = []\n",
    "\n",
    "for table in tables:\n",
    "    rows = table.find_all('tr')[2:]  \n",
    "    for row in rows:\n",
    "        dongu = row.find_all('td')\n",
    "        if dongu:\n",
    "            link = dongu[0].find('a')\n",
    "            if link:\n",
    "                page_link = 'https://tr.wikipedia.org' + link.get('href')\n",
    "                links.append(page_link)\n",
    "\n",
    "\n",
    "with open('url.txt', 'w') as file:\n",
    "    for link in links:\n",
    "        file.write(link + '\\n')\n",
    " "
   ]
  }
 ],
 "metadata": {
  "kernelspec": {
   "display_name": "Python 3",
   "language": "python",
   "name": "python3"
  },
  "language_info": {
   "codemirror_mode": {
    "name": "ipython",
    "version": 3
   },
   "file_extension": ".py",
   "mimetype": "text/x-python",
   "name": "python",
   "nbconvert_exporter": "python",
   "pygments_lexer": "ipython3",
   "version": "3.7.4"
  },
  "orig_nbformat": 4
 },
 "nbformat": 4,
 "nbformat_minor": 2
}
